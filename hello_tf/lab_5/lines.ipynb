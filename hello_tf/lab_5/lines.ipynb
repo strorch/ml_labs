{
 "cells": [
  {
   "cell_type": "code",
   "execution_count": 1,
   "id": "1a1a135e-1f1e-45f4-b468-c04a8d7e2883",
   "metadata": {},
   "outputs": [
    {
     "name": "stdout",
     "output_type": "stream",
     "text": [
      "Технології машинного навчання в комп&#39;ютерних науках\n"
     ]
    }
   ],
   "source": [
    "print(\"Технології машинного навчання в комп&#39;ютерних науках\")"
   ]
  },
  {
   "cell_type": "code",
   "execution_count": 2,
   "id": "64b3a9a2-e64b-4962-9abf-93da8185ba31",
   "metadata": {},
   "outputs": [
    {
     "name": "stdout",
     "output_type": "stream",
     "text": [
      "Лабораторна робота №5\n"
     ]
    }
   ],
   "source": [
    "print(\"Лабораторна робота №5\")"
   ]
  },
  {
   "cell_type": "code",
   "execution_count": 4,
   "id": "7a2909c3-a640-459d-a54a-131c0ccb9b64",
   "metadata": {},
   "outputs": [
    {
     "name": "stdout",
     "output_type": "stream",
     "text": [
      "Технології машинного навчання та інтелектуального аналізу даних за допомогою програмного пакета TensorFlow. Використання блокнота Jupyter\n"
     ]
    }
   ],
   "source": [
    "print(\"Технології машинного навчання та інтелектуального аналізу даних за допомогою програмного пакета TensorFlow. Використання блокнота Jupyter\")"
   ]
  },
  {
   "cell_type": "code",
   "execution_count": 7,
   "id": "9f4bb75c-d383-4dd5-87a3-04c409b24cf2",
   "metadata": {},
   "outputs": [
    {
     "name": "stdout",
     "output_type": "stream",
     "text": [
      "Студента групи Сторчак Максим\n"
     ]
    }
   ],
   "source": [
    "print(\"Студента групи {}\".format(\"Сторчак Максим\"))"
   ]
  },
  {
   "cell_type": "code",
   "execution_count": null,
   "id": "66f232e3-aa78-4919-86c3-e11e28b1df4e",
   "metadata": {},
   "outputs": [],
   "source": []
  }
 ],
 "metadata": {
  "kernelspec": {
   "display_name": "Python 3 (ipykernel)",
   "language": "python",
   "name": "python3"
  },
  "language_info": {
   "codemirror_mode": {
    "name": "ipython",
    "version": 3
   },
   "file_extension": ".py",
   "mimetype": "text/x-python",
   "name": "python",
   "nbconvert_exporter": "python",
   "pygments_lexer": "ipython3",
   "version": "3.12.4"
  }
 },
 "nbformat": 4,
 "nbformat_minor": 5
}
